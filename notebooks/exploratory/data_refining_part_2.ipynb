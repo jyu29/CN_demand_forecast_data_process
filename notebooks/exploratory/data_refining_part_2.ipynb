{
 "cells": [
  {
   "cell_type": "code",
   "execution_count": 3,
   "metadata": {},
   "outputs": [
    {
     "data": {
      "application/vnd.jupyter.widget-view+json": {
       "model_id": "b8a956b3245a40358e4d31f0fb76f415",
       "version_major": 2,
       "version_minor": 0
      },
      "text/plain": [
       "FloatProgress(value=0.0, bar_style='info', description='Progress:', layout=Layout(height='25px', width='50%'),…"
      ]
     },
     "metadata": {},
     "output_type": "display_data"
    }
   ],
   "source": [
    "import sys\n",
    "\n",
    "from pyspark import SparkContext, SparkConf\n",
    "from pyspark.sql import SparkSession, Window\n",
    "from pyspark.sql.types import StructType, StructField, StringType, IntegerType, DateType \n",
    "import pyspark.sql.functions as F\n",
    "#from pyspark.sql.functions import desc"
   ]
  },
  {
   "cell_type": "code",
   "execution_count": 4,
   "metadata": {},
   "outputs": [
    {
     "data": {
      "application/vnd.jupyter.widget-view+json": {
       "model_id": "e39d48b0676e4a2e92cc7d461410d1bd",
       "version_major": 2,
       "version_minor": 0
      },
      "text/plain": [
       "FloatProgress(value=0.0, bar_style='info', description='Progress:', layout=Layout(height='25px', width='50%'),…"
      ]
     },
     "metadata": {},
     "output_type": "display_data"
    },
    {
     "name": "stdout",
     "output_type": "stream",
     "text": [
      "u'2.4.3'"
     ]
    }
   ],
   "source": [
    "spark = SparkSession.builder \\\n",
    "    .appName(\"data_refining_part_2\") \\\n",
    "    .config(\"spark.sql.broadcastTimeout\", \"36000\")\\\n",
    "    .getOrCreate()\n",
    "spark.version"
   ]
  },
  {
   "cell_type": "markdown",
   "metadata": {},
   "source": [
    "## Load raw data"
   ]
  },
  {
   "cell_type": "code",
   "execution_count": 5,
   "metadata": {},
   "outputs": [
    {
     "data": {
      "application/vnd.jupyter.widget-view+json": {
       "model_id": "8db7a984a4884cb1bc0ca588c558e93b",
       "version_major": 2,
       "version_minor": 0
      },
      "text/plain": [
       "FloatProgress(value=0.0, bar_style='info', description='Progress:', layout=Layout(height='25px', width='50%'),…"
      ]
     },
     "metadata": {},
     "output_type": "display_data"
    },
    {
     "name": "stdout",
     "output_type": "stream",
     "text": [
      "root\n",
      " |-- week_id: integer (nullable = true)\n",
      " |-- date: date (nullable = true)\n",
      " |-- model: integer (nullable = true)\n",
      " |-- y: integer (nullable = true)\n",
      "\n",
      "+-------+----------+-----+---+\n",
      "|week_id|      date|model|  y|\n",
      "+-------+----------+-----+---+\n",
      "| 201611|2016-03-13|    1|  1|\n",
      "+-------+----------+-----+---+\n",
      "only showing top 1 row"
     ]
    }
   ],
   "source": [
    "actual_sales_schema = StructType([\n",
    "    StructField('week_id', IntegerType()),\n",
    "    StructField('date', DateType()),\n",
    "    StructField('model', IntegerType()),\n",
    "    StructField('y', IntegerType())])\n",
    "\n",
    "actual_sales = spark.read.csv('s3://fcst-workspace/qlik/data/raw/actual_sales.csv.gz',\n",
    "                              schema=actual_sales_schema, sep='|', header=True)\n",
    "actual_sales.cache()\n",
    "actual_sales.printSchema()\n",
    "actual_sales.show(1)"
   ]
  },
  {
   "cell_type": "code",
   "execution_count": 6,
   "metadata": {},
   "outputs": [
    {
     "data": {
      "application/vnd.jupyter.widget-view+json": {
       "model_id": "3726282b70124acdad3e03cdc7c7ea86",
       "version_major": 2,
       "version_minor": 0
      },
      "text/plain": [
       "FloatProgress(value=0.0, bar_style='info', description='Progress:', layout=Layout(height='25px', width='50%'),…"
      ]
     },
     "metadata": {},
     "output_type": "display_data"
    },
    {
     "name": "stdout",
     "output_type": "stream",
     "text": [
      "root\n",
      " |-- model: integer (nullable = true)\n",
      " |-- sku: integer (nullable = true)\n",
      " |-- date_begin: date (nullable = true)\n",
      " |-- date_end: date (nullable = true)\n",
      " |-- lifestage: integer (nullable = true)\n",
      "\n",
      "+-----+------+----------+----------+---------+\n",
      "|model|   sku|date_begin|  date_end|lifestage|\n",
      "+-----+------+----------+----------+---------+\n",
      "|15691|629892|2018-10-01|2100-12-31|        1|\n",
      "+-----+------+----------+----------+---------+\n",
      "only showing top 1 row"
     ]
    }
   ],
   "source": [
    "lifestage_update_schema = StructType([\n",
    "    StructField('model', IntegerType()),\n",
    "    StructField('sku', IntegerType()),\n",
    "    StructField('date_begin', DateType()),\n",
    "    StructField('date_end', DateType()),\n",
    "    StructField('lifestage', IntegerType())])\n",
    "\n",
    "lifestage_update = spark.read.csv('s3://fcst-workspace/qlik/data/raw/lifestage_update.csv.gz',\n",
    "                                  schema=lifestage_update_schema, sep='|', header=True)\n",
    "lifestage_update.cache()\n",
    "lifestage_update.printSchema()\n",
    "lifestage_update.show(1)"
   ]
  },
  {
   "cell_type": "code",
   "execution_count": 7,
   "metadata": {},
   "outputs": [
    {
     "data": {
      "application/vnd.jupyter.widget-view+json": {
       "model_id": "b163c94fc2574b0eb453bb6e3ca8a393",
       "version_major": 2,
       "version_minor": 0
      },
      "text/plain": [
       "FloatProgress(value=0.0, bar_style='info', description='Progress:', layout=Layout(height='25px', width='50%'),…"
      ]
     },
     "metadata": {},
     "output_type": "display_data"
    },
    {
     "name": "stdout",
     "output_type": "stream",
     "text": [
      "root\n",
      " |-- model: integer (nullable = true)\n",
      " |-- model_label: string (nullable = true)\n",
      " |-- family: integer (nullable = true)\n",
      " |-- family_label: string (nullable = true)\n",
      " |-- sub_department: integer (nullable = true)\n",
      " |-- sub_department_label: string (nullable = true)\n",
      " |-- department: integer (nullable = true)\n",
      " |-- department_label: string (nullable = true)\n",
      " |-- univers: integer (nullable = true)\n",
      " |-- univers_label: string (nullable = true)\n",
      " |-- product_nature: integer (nullable = true)\n",
      " |-- product_nature_label: string (nullable = true)\n",
      " |-- category_label: string (nullable = true)\n",
      " |-- range_level: integer (nullable = true)\n",
      "\n",
      "+-----+-----------+------+-------------+--------------+--------------------+----------+----------------+-------+-------------+--------------+--------------------+--------------+-----------+\n",
      "|model|model_label|family| family_label|sub_department|sub_department_label|department|department_label|univers|univers_label|product_nature|product_nature_label|category_label|range_level|\n",
      "+-----+-----------+------+-------------+--------------+--------------------+----------+----------------+-------+-------------+--------------+--------------------+--------------+-----------+\n",
      "| 2697|       null|  5152|DIRECT ORDERS|          4993|       DIRECT ORDERS|       142| Decapro and dir|     10|     FOOTBALL|             0|                null|          null|          4|\n",
      "+-----+-----------+------+-------------+--------------+--------------------+----------+----------------+-------+-------------+--------------+--------------------+--------------+-----------+\n",
      "only showing top 1 row"
     ]
    }
   ],
   "source": [
    "model_info = spark.read.csv('s3://fcst-workspace/qlik/data/raw/model_info.csv.gz',\n",
    "                            inferSchema=True, sep='|', header=True)\n",
    "model_info.cache()\n",
    "model_info.printSchema()\n",
    "model_info.show(1)"
   ]
  },
  {
   "cell_type": "markdown",
   "metadata": {},
   "source": [
    "## Delete incomplete weeks ==> A gérer dans la partie 1 ?\n",
    "- To be sure to have complete weeks (Sunday --> Saturday) regardless raw data extraction date, the first and last week of sales are deleted"
   ]
  },
  {
   "cell_type": "code",
   "execution_count": 8,
   "metadata": {},
   "outputs": [
    {
     "data": {
      "application/vnd.jupyter.widget-view+json": {
       "model_id": "fb2860049815456981e62286c75e1dbf",
       "version_major": 2,
       "version_minor": 0
      },
      "text/plain": [
       "FloatProgress(value=0.0, bar_style='info', description='Progress:', layout=Layout(height='25px', width='50%'),…"
      ]
     },
     "metadata": {},
     "output_type": "display_data"
    }
   ],
   "source": [
    "#actual_sales.count()"
   ]
  },
  {
   "cell_type": "code",
   "execution_count": 9,
   "metadata": {},
   "outputs": [
    {
     "data": {
      "application/vnd.jupyter.widget-view+json": {
       "model_id": "d5dc810126b3428a8bb83d6a413df8a9",
       "version_major": 2,
       "version_minor": 0
      },
      "text/plain": [
       "FloatProgress(value=0.0, bar_style='info', description='Progress:', layout=Layout(height='25px', width='50%'),…"
      ]
     },
     "metadata": {},
     "output_type": "display_data"
    },
    {
     "name": "stdout",
     "output_type": "stream",
     "text": [
      "DataFrame[week_id: int, date: date, model: int, y: int]"
     ]
    }
   ],
   "source": [
    "min_max_week_id = actual_sales.select(F.min('week_id').alias('min'), \n",
    "                                      F.max('week_id').alias('max'))\n",
    "\n",
    "actual_sales = actual_sales \\\n",
    "    .join(min_max_week_id, \n",
    "          on=(actual_sales.week_id > min_max_week_id.min) & (actual_sales.week_id < min_max_week_id.max),\n",
    "          how='inner') \\\n",
    "    .select('week_id', 'date', 'model', 'y') \\\n",
    "    .orderBy('model', 'date') \n",
    "\n",
    "actual_sales.cache()"
   ]
  },
  {
   "cell_type": "code",
   "execution_count": 10,
   "metadata": {},
   "outputs": [
    {
     "data": {
      "application/vnd.jupyter.widget-view+json": {
       "model_id": "ce3b559aea8a4971a181a1919c7fa42f",
       "version_major": 2,
       "version_minor": 0
      },
      "text/plain": [
       "FloatProgress(value=0.0, bar_style='info', description='Progress:', layout=Layout(height='25px', width='50%'),…"
      ]
     },
     "metadata": {},
     "output_type": "display_data"
    }
   ],
   "source": [
    "#actual_sales.count()"
   ]
  },
  {
   "cell_type": "markdown",
   "metadata": {},
   "source": [
    "## Format life stages values\n",
    "/!\\ life stage values are only historized since September 10, 2018\n",
    "\n",
    "##### 1) Keep only usefull life stage values: models in actual sales"
   ]
  },
  {
   "cell_type": "code",
   "execution_count": 11,
   "metadata": {},
   "outputs": [
    {
     "data": {
      "application/vnd.jupyter.widget-view+json": {
       "model_id": "80e4821f7ae8494c88ddc7dcbceac196",
       "version_major": 2,
       "version_minor": 0
      },
      "text/plain": [
       "FloatProgress(value=0.0, bar_style='info', description='Progress:', layout=Layout(height='25px', width='50%'),…"
      ]
     },
     "metadata": {},
     "output_type": "display_data"
    }
   ],
   "source": [
    "# lifestage_update.count()"
   ]
  },
  {
   "cell_type": "code",
   "execution_count": 12,
   "metadata": {},
   "outputs": [
    {
     "data": {
      "application/vnd.jupyter.widget-view+json": {
       "model_id": "78f0811987624beba345679e311beb3d",
       "version_major": 2,
       "version_minor": 0
      },
      "text/plain": [
       "FloatProgress(value=0.0, bar_style='info', description='Progress:', layout=Layout(height='25px', width='50%'),…"
      ]
     },
     "metadata": {},
     "output_type": "display_data"
    },
    {
     "name": "stdout",
     "output_type": "stream",
     "text": [
      "DataFrame[model: int, sku: int, date_begin: date, date_end: date, lifestage: int]"
     ]
    }
   ],
   "source": [
    "lifestage_update = lifestage_update.join(actual_sales.select('model').drop_duplicates(), \n",
    "                                         on='model', how='inner')\n",
    "\n",
    "lifestage_update.cache()"
   ]
  },
  {
   "cell_type": "code",
   "execution_count": 13,
   "metadata": {},
   "outputs": [
    {
     "data": {
      "application/vnd.jupyter.widget-view+json": {
       "model_id": "a76dc861b90e4f3da4bcd650de59c1e8",
       "version_major": 2,
       "version_minor": 0
      },
      "text/plain": [
       "FloatProgress(value=0.0, bar_style='info', description='Progress:', layout=Layout(height='25px', width='50%'),…"
      ]
     },
     "metadata": {},
     "output_type": "display_data"
    }
   ],
   "source": [
    "# lifestage_update.count()"
   ]
  },
  {
   "cell_type": "markdown",
   "metadata": {},
   "source": [
    "##### 2) Sku life stage updates ==> sku life stage by week"
   ]
  },
  {
   "cell_type": "code",
   "execution_count": 14,
   "metadata": {},
   "outputs": [
    {
     "data": {
      "application/vnd.jupyter.widget-view+json": {
       "model_id": "b0f83273059b4f00994adc2f4b84f16e",
       "version_major": 2,
       "version_minor": 0
      },
      "text/plain": [
       "FloatProgress(value=0.0, bar_style='info', description='Progress:', layout=Layout(height='25px', width='50%'),…"
      ]
     },
     "metadata": {},
     "output_type": "display_data"
    },
    {
     "name": "stdout",
     "output_type": "stream",
     "text": [
      "DataFrame[date: date, model: int, sku: int, lifestage: int]"
     ]
    }
   ],
   "source": [
    "# Calculates all possible date/sku combinations associated with a life stage update\n",
    "first_lifestage_date = lifestage_update.select(F.min('date_begin').alias('first_date'))\n",
    "\n",
    "all_lifestage_date = actual_sales \\\n",
    "    .join(first_lifestage_date,\n",
    "          on=actual_sales.date >= first_lifestage_date.first_date,\n",
    "          how='inner') \\\n",
    "    .select('date') \\\n",
    "    .drop_duplicates() \\\n",
    "    .orderBy('date') \n",
    "\n",
    "\n",
    "all_lifestage_sku = lifestage_update.select('sku').drop_duplicates().orderBy('sku')\n",
    "\n",
    "date_sku = all_lifestage_date.crossJoin(all_lifestage_sku)\n",
    "\n",
    "# Add corresponding models\n",
    "date_sku = date_sku.join(lifestage_update.select('sku', 'model').drop_duplicates(), \n",
    "                         on='sku', \n",
    "                         how='inner')\n",
    "\n",
    "# Calculate lifestage by date\n",
    "sku_lifestage = date_sku.join(lifestage_update, on=['model', 'sku'], how='left')\n",
    "sku_lifestage = sku_lifestage \\\n",
    "    .filter((sku_lifestage.date >= sku_lifestage.date_begin) &\n",
    "            (sku_lifestage.date <= sku_lifestage.date_end)) \\\n",
    "    .drop('date_begin', 'date_end')\n",
    "\n",
    "# The previous filter removes combinations that do not match the update dates.\n",
    "# But sometimes the update dates do not cover all periods, \n",
    "# which causes some dates to disappear, even during the model's activity periods.\n",
    "# To avoid this problem, we must merge again with all combinations to be sure \n",
    "# not to lose anything.\n",
    "sku_lifestage = date_sku.join(sku_lifestage, on=['date', 'model', 'sku'], how='left')\n",
    "\n",
    "sku_lifestage.cache()"
   ]
  },
  {
   "cell_type": "code",
   "execution_count": 15,
   "metadata": {},
   "outputs": [
    {
     "data": {
      "application/vnd.jupyter.widget-view+json": {
       "model_id": "a5a2287c5ea24b75b7b808ffd88137e5",
       "version_major": 2,
       "version_minor": 0
      },
      "text/plain": [
       "FloatProgress(value=0.0, bar_style='info', description='Progress:', layout=Layout(height='25px', width='50%'),…"
      ]
     },
     "metadata": {},
     "output_type": "display_data"
    }
   ],
   "source": [
    "#sku_lifestage.show()"
   ]
  },
  {
   "cell_type": "markdown",
   "metadata": {},
   "source": [
    "##### 3) Sku life stage ==> model life stage\n",
    "- In order to aggregate at the model level, we decided to take the minimum life stage value of the SKUs that compose it\n",
    "- If no life stage is filled in, we take the last known value (if exists)"
   ]
  },
  {
   "cell_type": "code",
   "execution_count": 16,
   "metadata": {},
   "outputs": [
    {
     "data": {
      "application/vnd.jupyter.widget-view+json": {
       "model_id": "90b9092e834944ec8ee5e6afa4f0bd8d",
       "version_major": 2,
       "version_minor": 0
      },
      "text/plain": [
       "FloatProgress(value=0.0, bar_style='info', description='Progress:', layout=Layout(height='25px', width='50%'),…"
      ]
     },
     "metadata": {},
     "output_type": "display_data"
    },
    {
     "name": "stdout",
     "output_type": "stream",
     "text": [
      "DataFrame[date: date, model: int, lifestage: int]"
     ]
    }
   ],
   "source": [
    "model_lifestage = sku_lifestage \\\n",
    "    .groupby(['date', 'model']) \\\n",
    "    .agg(F.min('lifestage').alias('lifestage'))\n",
    "\n",
    "model_lifestage.cache()"
   ]
  },
  {
   "cell_type": "code",
   "execution_count": 17,
   "metadata": {},
   "outputs": [
    {
     "data": {
      "application/vnd.jupyter.widget-view+json": {
       "model_id": "3ecc517a648c45b3abfcbb9d99e4a8f5",
       "version_major": 2,
       "version_minor": 0
      },
      "text/plain": [
       "FloatProgress(value=0.0, bar_style='info', description='Progress:', layout=Layout(height='25px', width='50%'),…"
      ]
     },
     "metadata": {},
     "output_type": "display_data"
    }
   ],
   "source": [
    "#model_lifestage.count()"
   ]
  },
  {
   "cell_type": "code",
   "execution_count": 18,
   "metadata": {},
   "outputs": [
    {
     "data": {
      "application/vnd.jupyter.widget-view+json": {
       "model_id": "4c253f48f21f435aadb793bc07a402ad",
       "version_major": 2,
       "version_minor": 0
      },
      "text/plain": [
       "FloatProgress(value=0.0, bar_style='info', description='Progress:', layout=Layout(height='25px', width='50%'),…"
      ]
     },
     "metadata": {},
     "output_type": "display_data"
    }
   ],
   "source": [
    "#print('NB Null before:', model_lifestage.count() - model_lifestage.na.drop().count())"
   ]
  },
  {
   "cell_type": "code",
   "execution_count": 19,
   "metadata": {},
   "outputs": [
    {
     "data": {
      "application/vnd.jupyter.widget-view+json": {
       "model_id": "d9db7ec00c5c4f2b8cc7ceedc0f1bc3e",
       "version_major": 2,
       "version_minor": 0
      },
      "text/plain": [
       "FloatProgress(value=0.0, bar_style='info', description='Progress:', layout=Layout(height='25px', width='50%'),…"
      ]
     },
     "metadata": {},
     "output_type": "display_data"
    },
    {
     "name": "stdout",
     "output_type": "stream",
     "text": [
      "DataFrame[date: date, model: int, lifestage: int]"
     ]
    }
   ],
   "source": [
    "# This is a ffil by group in pyspark ==> OMG\n",
    "window = Window.partitionBy('model')\\\n",
    "               .orderBy('date')\\\n",
    "               .rowsBetween(-sys.maxsize, 0)\n",
    "\n",
    "ffilled_lifestage = F.last(model_lifestage['lifestage'], ignorenulls=True).over(window)\n",
    "\n",
    "model_lifestage = model_lifestage.withColumn('lifestage', ffilled_lifestage)\n",
    "\n",
    "model_lifestage.cache()"
   ]
  },
  {
   "cell_type": "code",
   "execution_count": 20,
   "metadata": {},
   "outputs": [
    {
     "data": {
      "application/vnd.jupyter.widget-view+json": {
       "model_id": "0976dda31d0c457287bccc00a1a4eec9",
       "version_major": 2,
       "version_minor": 0
      },
      "text/plain": [
       "FloatProgress(value=0.0, bar_style='info', description='Progress:', layout=Layout(height='25px', width='50%'),…"
      ]
     },
     "metadata": {},
     "output_type": "display_data"
    }
   ],
   "source": [
    "#model_lifestage.take(2)"
   ]
  },
  {
   "cell_type": "code",
   "execution_count": 21,
   "metadata": {},
   "outputs": [
    {
     "data": {
      "application/vnd.jupyter.widget-view+json": {
       "model_id": "07b4b00a0dc14befb465cbc8c94a963b",
       "version_major": 2,
       "version_minor": 0
      },
      "text/plain": [
       "FloatProgress(value=0.0, bar_style='info', description='Progress:', layout=Layout(height='25px', width='50%'),…"
      ]
     },
     "metadata": {},
     "output_type": "display_data"
    }
   ],
   "source": [
    "#print('NB Null after:', model_lifestage.count() - model_lifestage.na.drop().count())"
   ]
  },
  {
   "cell_type": "markdown",
   "metadata": {},
   "source": [
    "##### 4) Deal with zombie models ==> TO DO\n",
    "If the life stage changes from active (1) to inactive (2 or more) and then back active, we consider the model is a zombie.  \n",
    "This new life may have a different sales behaviour than the previous one, so it's better to pretend that the latter is the only one that never existed.  \n",
    "\n",
    "For example, if the life stage looks like this: **1 1 1 3 3 3 1 1 1**, we only keep that: **3 1 1 1**.  \n",
    "Note that we still keep the last inactive value (here 3) before life stages 1 in order to avoid that the model life stages are considered incomplete in the following session."
   ]
  },
  {
   "cell_type": "code",
   "execution_count": 22,
   "metadata": {},
   "outputs": [
    {
     "data": {
      "application/vnd.jupyter.widget-view+json": {
       "model_id": "080d75f4de854ee39600870da7218f1a",
       "version_major": 2,
       "version_minor": 0
      },
      "text/plain": [
       "FloatProgress(value=0.0, bar_style='info', description='Progress:', layout=Layout(height='25px', width='50%'),…"
      ]
     },
     "metadata": {},
     "output_type": "display_data"
    }
   ],
   "source": [
    "# print('NB row before: ', model_lifestage.count())"
   ]
  },
  {
   "cell_type": "code",
   "execution_count": 23,
   "metadata": {},
   "outputs": [
    {
     "data": {
      "application/vnd.jupyter.widget-view+json": {
       "model_id": "8a3c328d90c34fc5a10dc3bc32cccdc8",
       "version_major": 2,
       "version_minor": 0
      },
      "text/plain": [
       "FloatProgress(value=0.0, bar_style='info', description='Progress:', layout=Layout(height='25px', width='50%'),…"
      ]
     },
     "metadata": {},
     "output_type": "display_data"
    },
    {
     "name": "stdout",
     "output_type": "stream",
     "text": [
      "DataFrame[date: date, model: int, lifestage: int]"
     ]
    }
   ],
   "source": [
    "model_lifestage = model_lifestage.withColumn('lifestage_shift', F.lag(model_lifestage['lifestage']).over(Window.partitionBy(\"model\").orderBy(F.desc('date'))))\n",
    "\n",
    "model_lifestage = model_lifestage.withColumn('diff_shift', model_lifestage['lifestage'] - model_lifestage['lifestage_shift'])\n",
    "\n",
    "df_cut_date = model_lifestage.filter(F.col('diff_shift')>0)\n",
    "\n",
    "df_cut_date = df_cut_date.groupBy('model')\\\n",
    "                         .agg(F.max('date').alias('cut_date'))\n",
    "\n",
    "ml = model_lifestage.join(df_cut_date, on=['model'], how='left')\n",
    "\n",
    "ml = ml.withColumn('cut_date',F.when(F.col('cut_date').isNull(),F.to_date(F.lit('1993-04-15'),'yyyy-MM-dd')).otherwise(F.col('cut_date')))\n",
    "\n",
    "model_lifestage = ml.where(ml.date >= ml.cut_date)\\\n",
    "                    .select(['date', 'model', 'lifestage'])\n",
    "\n",
    "model_lifestage.cache()\n",
    "# model_lifestage.orderBy(['model', 'date', 'lifestage'], ascending=True).show()"
   ]
  },
  {
   "cell_type": "code",
   "execution_count": 24,
   "metadata": {},
   "outputs": [
    {
     "data": {
      "application/vnd.jupyter.widget-view+json": {
       "model_id": "8b91248e6c8d425a869fb3ad2504cc0d",
       "version_major": 2,
       "version_minor": 0
      },
      "text/plain": [
       "FloatProgress(value=0.0, bar_style='info', description='Progress:', layout=Layout(height='25px', width='50%'),…"
      ]
     },
     "metadata": {},
     "output_type": "display_data"
    }
   ],
   "source": [
    "# print('NB row after: ', model_lifestage.count())"
   ]
  },
  {
   "cell_type": "code",
   "execution_count": 25,
   "metadata": {},
   "outputs": [
    {
     "data": {
      "application/vnd.jupyter.widget-view+json": {
       "model_id": "48845060f9e541f3a4284613e4aa1b16",
       "version_major": 2,
       "version_minor": 0
      },
      "text/plain": [
       "FloatProgress(value=0.0, bar_style='info', description='Progress:', layout=Layout(height='25px', width='50%'),…"
      ]
     },
     "metadata": {},
     "output_type": "display_data"
    }
   ],
   "source": [
    "# model_lifestage.show()"
   ]
  },
  {
   "cell_type": "markdown",
   "metadata": {},
   "source": [
    "## Match sales and life stages & rebuild incomplete life stages"
   ]
  },
  {
   "cell_type": "markdown",
   "metadata": {},
   "source": [
    "##### 1) Complete sales\n",
    "- Fill missing quantities by 0"
   ]
  },
  {
   "cell_type": "code",
   "execution_count": 26,
   "metadata": {},
   "outputs": [
    {
     "data": {
      "application/vnd.jupyter.widget-view+json": {
       "model_id": "b55b75e43b0c40ab9d0154ec6f7d1689",
       "version_major": 2,
       "version_minor": 0
      },
      "text/plain": [
       "FloatProgress(value=0.0, bar_style='info', description='Progress:', layout=Layout(height='25px', width='50%'),…"
      ]
     },
     "metadata": {},
     "output_type": "display_data"
    },
    {
     "name": "stdout",
     "output_type": "stream",
     "text": [
      "DataFrame[date: date, model: int, week_id: int, y: int]"
     ]
    }
   ],
   "source": [
    "# test 1 model\n",
    "\n",
    "# all_sales_model = actual_sales.select('model').where(actual_sales.model == 1).orderBy(['model'], ascending=True).distinct()\n",
    "all_sales_model = actual_sales.select('model').orderBy(['model'], ascending=True).distinct()\n",
    "\n",
    "all_sales_date = actual_sales.select('date')\\\n",
    "                             .orderBy(['date'], ascending=True).distinct()\n",
    "\n",
    "\n",
    "date_model = all_sales_model.crossJoin(all_sales_date)\n",
    "date_model.cache()\n",
    "\n",
    "\n",
    "ac = actual_sales.select(actual_sales.date, actual_sales.week_id)\\\n",
    "                 .drop_duplicates()\n",
    "                 \n",
    "         \n",
    "dm = date_model.drop_duplicates()\n",
    "\n",
    "\n",
    "date_model = dm.join(ac,['date'] , how='inner')\n",
    "date_model.cache()\n",
    "\n",
    "  \n",
    "complete_ts = date_model.join(actual_sales, ['date', 'model', 'week_id'], how='left')\n",
    "\n",
    "\n",
    "\n",
    "complete_ts = complete_ts.fillna(0, subset=['y'])\n",
    "complete_ts.cache()\n"
   ]
  },
  {
   "cell_type": "code",
   "execution_count": 27,
   "metadata": {},
   "outputs": [
    {
     "data": {
      "application/vnd.jupyter.widget-view+json": {
       "model_id": "54d3ce3f70ca48458e1dcd62fe1c480a",
       "version_major": 2,
       "version_minor": 0
      },
      "text/plain": [
       "FloatProgress(value=0.0, bar_style='info', description='Progress:', layout=Layout(height='25px', width='50%'),…"
      ]
     },
     "metadata": {},
     "output_type": "display_data"
    }
   ],
   "source": [
    "# 259 comme sur python pour le model 1"
   ]
  },
  {
   "cell_type": "markdown",
   "metadata": {},
   "source": [
    "##### 2) Add model life stage by week"
   ]
  },
  {
   "cell_type": "code",
   "execution_count": 28,
   "metadata": {},
   "outputs": [
    {
     "data": {
      "application/vnd.jupyter.widget-view+json": {
       "model_id": "7a4ec91f39d743769bd7ed232a99bf69",
       "version_major": 2,
       "version_minor": 0
      },
      "text/plain": [
       "FloatProgress(value=0.0, bar_style='info', description='Progress:', layout=Layout(height='25px', width='50%'),…"
      ]
     },
     "metadata": {},
     "output_type": "display_data"
    },
    {
     "name": "stdout",
     "output_type": "stream",
     "text": [
      "DataFrame[date: date, model: int, week_id: int, y: int, lifestage: int]"
     ]
    }
   ],
   "source": [
    "# complete_ts = pd.merge(complete_ts, model_lifestage, how='left')\n",
    "\n",
    "complete_ts = complete_ts.join(model_lifestage, ['date', 'model'], how='left')\n",
    "complete_ts.cache()\n"
   ]
  },
  {
   "cell_type": "markdown",
   "metadata": {},
   "source": [
    "##### 3) Rebuild incomplete life stages\n",
    "/!\\ Reminder: the life stage values are only historized since September 10, 2018\n",
    "- If the life stage value is 1 at the first historized date \n",
    "- And we observe sales in the previous and consecutive weeks\n",
    "- Then we fill the life stage values of these weeks with 1 as well"
   ]
  },
  {
   "cell_type": "code",
   "execution_count": 29,
   "metadata": {},
   "outputs": [
    {
     "data": {
      "application/vnd.jupyter.widget-view+json": {
       "model_id": "f7c4a5fb2f9245c3a1a9db4bdd84f90f",
       "version_major": 2,
       "version_minor": 0
      },
      "text/plain": [
       "FloatProgress(value=0.0, bar_style='info', description='Progress:', layout=Layout(height='25px', width='50%'),…"
      ]
     },
     "metadata": {},
     "output_type": "display_data"
    },
    {
     "name": "stdout",
     "output_type": "stream",
     "text": [
      "DataFrame[id: bigint, date: date, model: int, week_id: int, y: int, lifestage: int, to_fill: boolean]"
     ]
    }
   ],
   "source": [
    "# find models respecting the first condition\n",
    "\n",
    "first_lifestage = complete_ts.where(complete_ts.lifestage.isNotNull())\n",
    "\n",
    "\n",
    "first_lifestage = first_lifestage.orderBy(['model', 'date'], ascending=True)\\\n",
    "                                 .groupBy('model').agg(F.first(complete_ts['date']).alias('date'), F.first(complete_ts['lifestage']).alias('lifestage'))\n",
    "\n",
    "\n",
    "first_lifestage = first_lifestage.where(first_lifestage.lifestage == 1)\\\n",
    "                                 .select(first_lifestage.model, first_lifestage.date.alias('first_lifestage_date'))\n",
    "\n",
    "first_lifestage.cache()\n",
    "\n",
    "\n",
    "# Create the mask (rows to be completed) for theses models\n",
    "complete_ts = complete_ts.withColumn('id', F.monotonically_increasing_id())\n",
    "mask = complete_ts.withColumn('id', F.monotonically_increasing_id())\n",
    "\n",
    "# keep only models respecting the first condition\n",
    "mask = mask.join(first_lifestage, ['model'], how='inner')\n",
    "mask.cache()\n",
    "complete_ts.cache()\n",
    "\n",
    "\n",
    "\n",
    "# Look only before the first historized lifestage date\n",
    "mask = mask.where(mask.date <= mask.first_lifestage_date)\n",
    "\n",
    "mask = mask.withColumn('cumsum_y', F.sum('y').over(Window.partitionBy('model').orderBy(F.col('date').desc())))\\\n",
    "           .withColumn('lag_cumsum_y', F.lag('cumsum_y').over(Window.partitionBy('model').orderBy(F.col('date').desc())))\\\n",
    "           .fillna(0, subset=['lag_cumsum_y'])\\\n",
    "           .withColumn('is_active', F.col('cumsum_y') > F.col('lag_cumsum_y'))\n",
    "\n",
    "\n",
    "ts_start_date = mask.where(mask.is_active == False)\\\n",
    "                    .groupBy('model').agg(F.first('date').alias('start_date'))\n",
    "\n",
    "mask = mask.join(ts_start_date, 'model', how='left')\n",
    "\n",
    "# Case model start date unknown (older than first week recorded here)\n",
    "# ==> fill by an old date\n",
    "mask = mask.withColumn('start_date',F.when(F.col('start_date').isNull(),F.to_date(F.lit('1993-04-15'),'yyyy-MM-dd')).otherwise(F.col('start_date')))\\\n",
    "     \n",
    "mask = mask.withColumn('start_date',F.when(F.col('start_date').isNull(),F.to_date(F.lit('1993-04-15'),'yyyy-MM-dd')).otherwise(F.col('start_date')))\\\n",
    "           .withColumn('is_model_start', F.col('date') > F.col('start_date'))\\\n",
    "           .withColumn('to_fill', (F.col('is_active')) & (F.col('is_model_start')) & (F.col('lifestage').isNull()))\n",
    "\n",
    "\n",
    "mask = mask.where(mask.to_fill == True).select(mask.id, mask.to_fill)\n",
    "\n",
    "\n",
    "mask.cache()\n",
    "\n",
    "# Fill the eligible rows under all conditions\n",
    "#complete_ts.loc[mask['index'], 'lifestage'] = 1\n",
    "\n",
    "complete_ts = complete_ts.join(mask, 'id', how='left')\n",
    "complete_ts = complete_ts.withColumn('lifestage', F.when(F.col('to_fill')==True, F.lit(1)).otherwise(F.col('lifestage')))\n",
    "complete_ts.cache()"
   ]
  },
  {
   "cell_type": "code",
   "execution_count": 30,
   "metadata": {},
   "outputs": [
    {
     "data": {
      "application/vnd.jupyter.widget-view+json": {
       "model_id": "d6c5c4a2211943058d5c02699b74b57b",
       "version_major": 2,
       "version_minor": 0
      },
      "text/plain": [
       "FloatProgress(value=0.0, bar_style='info', description='Progress:', layout=Layout(height='25px', width='50%'),…"
      ]
     },
     "metadata": {},
     "output_type": "display_data"
    },
    {
     "name": "stdout",
     "output_type": "stream",
     "text": [
      "+---------+--------+\n",
      "|lifestage|   count|\n",
      "+---------+--------+\n",
      "|        0|      89|\n",
      "|        2|   47408|\n",
      "|        3|  182502|\n",
      "|        7|  430085|\n",
      "|        8|  827983|\n",
      "|        1| 2723262|\n",
      "|        4| 4829419|\n",
      "|     null|37121858|\n",
      "+---------+--------+"
     ]
    }
   ],
   "source": [
    "complete_ts.groupby('lifestage').count().orderBy('count').show()"
   ]
  },
  {
   "cell_type": "code",
   "execution_count": 32,
   "metadata": {},
   "outputs": [
    {
     "data": {
      "application/vnd.jupyter.widget-view+json": {
       "model_id": "26cafb0206e44c57ba41504b11476829",
       "version_major": 2,
       "version_minor": 0
      },
      "text/plain": [
       "FloatProgress(value=0.0, bar_style='info', description='Progress:', layout=Layout(height='25px', width='50%'),…"
      ]
     },
     "metadata": {},
     "output_type": "display_data"
    },
    {
     "name": "stdout",
     "output_type": "stream",
     "text": [
      "46162606"
     ]
    }
   ],
   "source": [
    "complete_ts.count()"
   ]
  },
  {
   "cell_type": "code",
   "execution_count": null,
   "metadata": {},
   "outputs": [],
   "source": [
    "# lifestage1 : wtf\n",
    "# python: 2723285\n",
    "# spark:  2723262"
   ]
  },
  {
   "cell_type": "markdown",
   "metadata": {},
   "source": [
    "## Create active sales data set\n",
    "\n",
    "##### 1) Keep in memory first sales dates by model"
   ]
  },
  {
   "cell_type": "code",
   "execution_count": 34,
   "metadata": {},
   "outputs": [
    {
     "data": {
      "application/vnd.jupyter.widget-view+json": {
       "model_id": "cfea55b8b0184cfda3becdd41112b3e7",
       "version_major": 2,
       "version_minor": 0
      },
      "text/plain": [
       "FloatProgress(value=0.0, bar_style='info', description='Progress:', layout=Layout(height='25px', width='50%'),…"
      ]
     },
     "metadata": {},
     "output_type": "display_data"
    },
    {
     "name": "stdout",
     "output_type": "stream",
     "text": [
      "DataFrame[model: int, first_date: date]"
     ]
    }
   ],
   "source": [
    "model_start_date = actual_sales.groupBy('model').agg(F.first(complete_ts['date']).alias('first_date'))\n",
    "model_start_date.cache()"
   ]
  },
  {
   "cell_type": "markdown",
   "metadata": {},
   "source": [
    "##### 2) Construct active sales\n",
    "- Filtered on active life stage \n",
    "- After the first actual sales date\n",
    "- Padded with zeros (already done in complete sales)"
   ]
  },
  {
   "cell_type": "code",
   "execution_count": 45,
   "metadata": {},
   "outputs": [
    {
     "data": {
      "application/vnd.jupyter.widget-view+json": {
       "model_id": "2b396614d02148139d97b6dc2568e78e",
       "version_major": 2,
       "version_minor": 0
      },
      "text/plain": [
       "FloatProgress(value=0.0, bar_style='info', description='Progress:', layout=Layout(height='25px', width='50%'),…"
      ]
     },
     "metadata": {},
     "output_type": "display_data"
    },
    {
     "name": "stdout",
     "output_type": "stream",
     "text": [
      "('Nb rows before:', 46162606)"
     ]
    }
   ],
   "source": [
    "print('Nb rows before:', complete_ts.count())"
   ]
  },
  {
   "cell_type": "code",
   "execution_count": 46,
   "metadata": {},
   "outputs": [
    {
     "data": {
      "application/vnd.jupyter.widget-view+json": {
       "model_id": "58d6563501734fbe86cf7660ae540ee5",
       "version_major": 2,
       "version_minor": 0
      },
      "text/plain": [
       "FloatProgress(value=0.0, bar_style='info', description='Progress:', layout=Layout(height='25px', width='50%'),…"
      ]
     },
     "metadata": {},
     "output_type": "display_data"
    },
    {
     "name": "stdout",
     "output_type": "stream",
     "text": [
      "DataFrame[model: int, id: bigint, date: date, week_id: int, y: int]"
     ]
    }
   ],
   "source": [
    "active_sales = complete_ts.where(complete_ts.lifestage == 1)\n",
    "\n",
    "active_sales = active_sales.join(model_start_date,'model' , how='inner')\\\n",
    "                           \n",
    "active_sales = active_sales.where(active_sales.date >= active_sales.first_date)\\\n",
    "                           .drop('lifestage', 'first_date', 'to_fill')\n",
    "\n",
    "active_sales.cache()"
   ]
  },
  {
   "cell_type": "code",
   "execution_count": 47,
   "metadata": {},
   "outputs": [
    {
     "data": {
      "application/vnd.jupyter.widget-view+json": {
       "model_id": "0774810d51fc4b5585af646b183ff8f1",
       "version_major": 2,
       "version_minor": 0
      },
      "text/plain": [
       "FloatProgress(value=0.0, bar_style='info', description='Progress:', layout=Layout(height='25px', width='50%'),…"
      ]
     },
     "metadata": {},
     "output_type": "display_data"
    },
    {
     "name": "stdout",
     "output_type": "stream",
     "text": [
      "('Nb rows after: ', 2708815)"
     ]
    }
   ],
   "source": [
    "print('Nb rows after: ', active_sales.count())"
   ]
  },
  {
   "cell_type": "code",
   "execution_count": 44,
   "metadata": {},
   "outputs": [
    {
     "data": {
      "application/vnd.jupyter.widget-view+json": {
       "model_id": "ab14ec2c1b774cf1a7a7d58019da4695",
       "version_major": 2,
       "version_minor": 0
      },
      "text/plain": [
       "FloatProgress(value=0.0, bar_style='info', description='Progress:', layout=Layout(height='25px', width='50%'),…"
      ]
     },
     "metadata": {},
     "output_type": "display_data"
    },
    {
     "name": "stdout",
     "output_type": "stream",
     "text": [
      "root\n",
      " |-- model: integer (nullable = true)\n",
      " |-- id: long (nullable = false)\n",
      " |-- date: date (nullable = true)\n",
      " |-- week_id: integer (nullable = true)\n",
      " |-- y: integer (nullable = true)"
     ]
    }
   ],
   "source": [
    "active_sales.printSchema()"
   ]
  },
  {
   "cell_type": "code",
   "execution_count": null,
   "metadata": {},
   "outputs": [],
   "source": []
  },
  {
   "cell_type": "markdown",
   "metadata": {},
   "source": [
    "## Clean model info"
   ]
  },
  {
   "cell_type": "code",
   "execution_count": null,
   "metadata": {},
   "outputs": [],
   "source": [
    "\"\"\"\n",
    "model_info.loc[model_info['category_label'] == 'SOUS RAYON POUB', 'category_label'] = np.nan\n",
    "model_info.fillna('UNKNOWN', inplace=True)\n",
    "model_info.category_label.unique()\n",
    "\"\"\""
   ]
  },
  {
   "cell_type": "code",
   "execution_count": null,
   "metadata": {},
   "outputs": [],
   "source": [
    "\"\"\"\n",
    "# Due to a discrepant seasonal behaviour between LOW SOCKS and HIGH SOCKS, we chose to split\n",
    "# the product nature 'SOCKS' into two different product natures 'LOW SOCKS' and 'HIGH SOCKS'\n",
    "\n",
    "def change_socks_nature(row):\n",
    "    if (row['product_nature_label']=='SOCKS') & (' LOW' in str(row['model_label'])):\n",
    "        return 'LOW SOCKS'\n",
    "    if (row['product_nature_label']=='SOCKS') & (' MID' in str(row['model_label'])):\n",
    "        return 'MID SOCKS'\n",
    "    if (row['product_nature_label']=='SOCKS') & (' HIGH' in str(row['model_label'])):\n",
    "        return 'HIGH SOCKS'\n",
    "    else:\n",
    "        return row['product_nature_label']\n",
    "    \n",
    "model_info['product_nature_label'] = model_info.apply(change_socks_nature, axis=1)\n",
    "\n",
    "model_info['product_nature'] = pd.factorize(model_info['product_nature_label'])[0] + 1\n",
    "\"\"\""
   ]
  },
  {
   "cell_type": "markdown",
   "metadata": {},
   "source": [
    "## Export datasets"
   ]
  },
  {
   "cell_type": "code",
   "execution_count": null,
   "metadata": {},
   "outputs": [],
   "source": [
    "\"\"\"\n",
    "ut.write_csv_S3(model_info, cf.bucket, cf.s3_path_clean_data + 'model_info.csv')\n",
    "ut.write_csv_S3(actual_sales, cf.bucket, cf.s3_path_clean_data + 'actual_sales.csv')\n",
    "ut.write_csv_S3(active_sales, cf.bucket, cf.s3_path_clean_data + 'active_sales.csv')\n",
    "\"\"\""
   ]
  },
  {
   "cell_type": "code",
   "execution_count": null,
   "metadata": {},
   "outputs": [],
   "source": []
  },
  {
   "cell_type": "code",
   "execution_count": null,
   "metadata": {},
   "outputs": [],
   "source": [
    "spark.stop()"
   ]
  },
  {
   "cell_type": "code",
   "execution_count": null,
   "metadata": {},
   "outputs": [],
   "source": []
  }
 ],
 "metadata": {
  "kernelspec": {
   "display_name": "Sparkmagic (PySpark)",
   "language": "",
   "name": "pysparkkernel"
  },
  "language_info": {
   "codemirror_mode": {
    "name": "python",
    "version": 2
   },
   "mimetype": "text/x-python",
   "name": "pyspark",
   "pygments_lexer": "python2"
  }
 },
 "nbformat": 4,
 "nbformat_minor": 4
}
