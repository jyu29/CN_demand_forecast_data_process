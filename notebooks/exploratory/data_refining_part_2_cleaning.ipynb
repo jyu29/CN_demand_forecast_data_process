{
 "cells": [
  {
   "cell_type": "code",
   "execution_count": 180,
   "metadata": {},
   "outputs": [
    {
     "data": {
      "application/vnd.jupyter.widget-view+json": {
       "model_id": "64d825908839427e82ee55bcc51504cf",
       "version_major": 2,
       "version_minor": 0
      },
      "text/plain": [
       "FloatProgress(value=0.0, bar_style='info', description='Progress:', layout=Layout(height='25px', width='50%'),…"
      ]
     },
     "metadata": {},
     "output_type": "display_data"
    }
   ],
   "source": [
    "import sys\n",
    "\n",
    "from pyspark import SparkContext, SparkConf\n",
    "from pyspark.sql import SparkSession, Window\n",
    "from pyspark.sql.types import StructType, StructField, StringType, IntegerType, DateType \n",
    "import pyspark.sql.functions as F\n",
    "#from pyspark.sql.functions import desc\n",
    "from pyspark.ml.feature import StringIndexer\n",
    "\n",
    "import datetime\n",
    "from datetime import datetime, timedelta\n",
    "import numpy as np\n",
    "#import isoweek"
   ]
  },
  {
   "cell_type": "code",
   "execution_count": null,
   "metadata": {},
   "outputs": [],
   "source": [
    "# %pip install isoweek"
   ]
  },
  {
   "cell_type": "code",
   "execution_count": 2,
   "metadata": {},
   "outputs": [
    {
     "data": {
      "application/vnd.jupyter.widget-view+json": {
       "model_id": "0e0d8b1635714c35a79d144d1c121b1d",
       "version_major": 2,
       "version_minor": 0
      },
      "text/plain": [
       "FloatProgress(value=0.0, bar_style='info', description='Progress:', layout=Layout(height='25px', width='50%'),…"
      ]
     },
     "metadata": {},
     "output_type": "display_data"
    },
    {
     "name": "stdout",
     "output_type": "stream",
     "text": [
      "u'2.4.3'"
     ]
    }
   ],
   "source": [
    "spark = SparkSession.builder \\\n",
    "    .appName(\"data_refining_part_2\") \\\n",
    "    .config(\"spark.sql.broadcastTimeout\", \"36000\")\\\n",
    "    .getOrCreate()\n",
    "spark.version"
   ]
  },
  {
   "cell_type": "markdown",
   "metadata": {},
   "source": [
    "## Load raw data"
   ]
  },
  {
   "cell_type": "code",
   "execution_count": 3,
   "metadata": {},
   "outputs": [
    {
     "data": {
      "application/vnd.jupyter.widget-view+json": {
       "model_id": "e21926b135784c74b3c9ed5ce3dd70e7",
       "version_major": 2,
       "version_minor": 0
      },
      "text/plain": [
       "FloatProgress(value=0.0, bar_style='info', description='Progress:', layout=Layout(height='25px', width='50%'),…"
      ]
     },
     "metadata": {},
     "output_type": "display_data"
    },
    {
     "name": "stdout",
     "output_type": "stream",
     "text": [
      "root\n",
      " |-- week_id: integer (nullable = true)\n",
      " |-- date: date (nullable = true)\n",
      " |-- model: integer (nullable = true)\n",
      " |-- y: integer (nullable = true)\n",
      "\n",
      "+-------+----------+-----+---+\n",
      "|week_id|      date|model|  y|\n",
      "+-------+----------+-----+---+\n",
      "| 201736|2017-09-03| 2697| 10|\n",
      "+-------+----------+-----+---+\n",
      "only showing top 1 row"
     ]
    }
   ],
   "source": [
    "actual_sales_schema = StructType([\n",
    "    StructField('week_id', IntegerType()),\n",
    "    StructField('date', DateType()),\n",
    "    StructField('model', IntegerType()),\n",
    "    StructField('y', IntegerType())])\n",
    "\n",
    "actual_sales = spark.read.csv('s3://fcst-workspace/qlik/data/raw/actual_sales.csv.gz',\n",
    "                              schema=actual_sales_schema, sep='|', header=True)\n",
    "actual_sales.cache()\n",
    "actual_sales.printSchema()\n",
    "actual_sales.show(1)"
   ]
  },
  {
   "cell_type": "code",
   "execution_count": 4,
   "metadata": {},
   "outputs": [
    {
     "data": {
      "application/vnd.jupyter.widget-view+json": {
       "model_id": "fbaf7aacbf094ce9b44bb6f9a81ad7cf",
       "version_major": 2,
       "version_minor": 0
      },
      "text/plain": [
       "FloatProgress(value=0.0, bar_style='info', description='Progress:', layout=Layout(height='25px', width='50%'),…"
      ]
     },
     "metadata": {},
     "output_type": "display_data"
    },
    {
     "name": "stdout",
     "output_type": "stream",
     "text": [
      "root\n",
      " |-- model: integer (nullable = true)\n",
      " |-- sku: integer (nullable = true)\n",
      " |-- date_begin: date (nullable = true)\n",
      " |-- date_end: date (nullable = true)\n",
      " |-- lifestage: integer (nullable = true)\n",
      "\n",
      "+-----+-----+----------+----------+---------+\n",
      "|model|  sku|date_begin|  date_end|lifestage|\n",
      "+-----+-----+----------+----------+---------+\n",
      "| 2697|84584|2018-09-28|2100-12-31|        4|\n",
      "+-----+-----+----------+----------+---------+\n",
      "only showing top 1 row"
     ]
    }
   ],
   "source": [
    "lifestage_update_schema = StructType([\n",
    "    StructField('model', IntegerType()),\n",
    "    StructField('sku', IntegerType()),\n",
    "    StructField('date_begin', DateType()),\n",
    "    StructField('date_end', DateType()),\n",
    "    StructField('lifestage', IntegerType())])\n",
    "\n",
    "lifestage_update = spark.read.csv('s3://fcst-workspace/qlik/data/raw/lifestage_update.csv.gz',\n",
    "                                  schema=lifestage_update_schema, sep='|', header=True)\n",
    "lifestage_update.cache()\n",
    "lifestage_update.printSchema()\n",
    "lifestage_update.show(1)"
   ]
  },
  {
   "cell_type": "code",
   "execution_count": 5,
   "metadata": {},
   "outputs": [
    {
     "data": {
      "application/vnd.jupyter.widget-view+json": {
       "model_id": "102ab2c195f14ff4945d44410d2edfad",
       "version_major": 2,
       "version_minor": 0
      },
      "text/plain": [
       "FloatProgress(value=0.0, bar_style='info', description='Progress:', layout=Layout(height='25px', width='50%'),…"
      ]
     },
     "metadata": {},
     "output_type": "display_data"
    },
    {
     "name": "stdout",
     "output_type": "stream",
     "text": [
      "root\n",
      " |-- model: integer (nullable = true)\n",
      " |-- model_label: string (nullable = true)\n",
      " |-- family: integer (nullable = true)\n",
      " |-- family_label: string (nullable = true)\n",
      " |-- sub_department: integer (nullable = true)\n",
      " |-- sub_department_label: string (nullable = true)\n",
      " |-- department: integer (nullable = true)\n",
      " |-- department_label: string (nullable = true)\n",
      " |-- univers: integer (nullable = true)\n",
      " |-- univers_label: string (nullable = true)\n",
      " |-- product_nature: integer (nullable = true)\n",
      " |-- product_nature_label: string (nullable = true)\n",
      " |-- category_label: string (nullable = true)\n",
      " |-- range_level: integer (nullable = true)\n",
      "\n",
      "+-----+-----------+------+-------------+--------------+--------------------+----------+----------------+-------+-------------+--------------+--------------------+--------------+-----------+\n",
      "|model|model_label|family| family_label|sub_department|sub_department_label|department|department_label|univers|univers_label|product_nature|product_nature_label|category_label|range_level|\n",
      "+-----+-----------+------+-------------+--------------+--------------------+----------+----------------+-------+-------------+--------------+--------------------+--------------+-----------+\n",
      "| 2697|       null|  5152|DIRECT ORDERS|          4993|       DIRECT ORDERS|       142| Decapro and dir|     10|     FOOTBALL|             0|                null|          null|          4|\n",
      "+-----+-----------+------+-------------+--------------+--------------------+----------+----------------+-------+-------------+--------------+--------------------+--------------+-----------+\n",
      "only showing top 1 row"
     ]
    }
   ],
   "source": [
    "model_info = spark.read.csv('s3://fcst-workspace/qlik/data/raw/model_info.csv.gz',\n",
    "                            inferSchema=True, sep='|', header=True)\n",
    "model_info.cache()\n",
    "model_info.printSchema()\n",
    "model_info.show(1)"
   ]
  },
  {
   "cell_type": "markdown",
   "metadata": {},
   "source": [
    "## Delete incomplete weeks ==> A gérer dans la partie 1 ?\n",
    "- To be sure to have complete weeks (Sunday --> Saturday) regardless raw data extraction date, the first and last week of sales are deleted"
   ]
  },
  {
   "cell_type": "code",
   "execution_count": null,
   "metadata": {},
   "outputs": [],
   "source": [
    "#actual_sales.count()"
   ]
  },
  {
   "cell_type": "code",
   "execution_count": 6,
   "metadata": {},
   "outputs": [
    {
     "data": {
      "application/vnd.jupyter.widget-view+json": {
       "model_id": "da6280d25a2c486ebbd8ee50c6945fc7",
       "version_major": 2,
       "version_minor": 0
      },
      "text/plain": [
       "FloatProgress(value=0.0, bar_style='info', description='Progress:', layout=Layout(height='25px', width='50%'),…"
      ]
     },
     "metadata": {},
     "output_type": "display_data"
    },
    {
     "name": "stdout",
     "output_type": "stream",
     "text": [
      "DataFrame[week_id: int, date: date, model: int, y: int]"
     ]
    }
   ],
   "source": [
    "min_max_week_id = actual_sales.select(F.min('week_id').alias('min'), \n",
    "                                      F.max('week_id').alias('max'))\n",
    "\n",
    "actual_sales = actual_sales \\\n",
    "    .join(min_max_week_id, \n",
    "          on=(actual_sales.week_id > min_max_week_id.min) & (actual_sales.week_id < min_max_week_id.max),\n",
    "          how='inner') \\\n",
    "    .select('week_id', 'date', 'model', 'y') \\\n",
    "    .orderBy('model', 'date') \n",
    "\n",
    "actual_sales.cache()"
   ]
  },
  {
   "cell_type": "code",
   "execution_count": null,
   "metadata": {},
   "outputs": [],
   "source": [
    "#actual_sales.count()"
   ]
  },
  {
   "cell_type": "markdown",
   "metadata": {},
   "source": [
    "## Format life stages values\n",
    "/!\\ life stage values are only historized since September 10, 2018\n",
    "\n",
    "##### 1) Keep only usefull life stage values: models in actual sales"
   ]
  },
  {
   "cell_type": "code",
   "execution_count": null,
   "metadata": {},
   "outputs": [],
   "source": [
    "# lifestage_update.count()"
   ]
  },
  {
   "cell_type": "code",
   "execution_count": 7,
   "metadata": {},
   "outputs": [
    {
     "data": {
      "application/vnd.jupyter.widget-view+json": {
       "model_id": "86ab9569b55a4cd5bc2a7c7d7151f522",
       "version_major": 2,
       "version_minor": 0
      },
      "text/plain": [
       "FloatProgress(value=0.0, bar_style='info', description='Progress:', layout=Layout(height='25px', width='50%'),…"
      ]
     },
     "metadata": {},
     "output_type": "display_data"
    },
    {
     "name": "stdout",
     "output_type": "stream",
     "text": [
      "DataFrame[model: int, sku: int, date_begin: date, date_end: date, lifestage: int]"
     ]
    }
   ],
   "source": [
    "lifestage_update = lifestage_update.join(actual_sales.select('model').drop_duplicates(), \n",
    "                                         on='model', how='inner')\n",
    "\n",
    "lifestage_update.cache()"
   ]
  },
  {
   "cell_type": "code",
   "execution_count": null,
   "metadata": {},
   "outputs": [],
   "source": [
    "# lifestage_update.count()"
   ]
  },
  {
   "cell_type": "markdown",
   "metadata": {},
   "source": [
    "##### 2) Sku life stage updates ==> sku life stage by week"
   ]
  },
  {
   "cell_type": "code",
   "execution_count": 8,
   "metadata": {},
   "outputs": [
    {
     "data": {
      "application/vnd.jupyter.widget-view+json": {
       "model_id": "1d5566b3985b4a3fbc52508f057f6f21",
       "version_major": 2,
       "version_minor": 0
      },
      "text/plain": [
       "FloatProgress(value=0.0, bar_style='info', description='Progress:', layout=Layout(height='25px', width='50%'),…"
      ]
     },
     "metadata": {},
     "output_type": "display_data"
    },
    {
     "name": "stdout",
     "output_type": "stream",
     "text": [
      "DataFrame[date: date, model: int, sku: int, lifestage: int]"
     ]
    }
   ],
   "source": [
    "# Calculates all possible date/sku combinations associated with a life stage update\n",
    "first_lifestage_date = lifestage_update.select(F.min('date_begin').alias('first_date'))\n",
    "\n",
    "all_lifestage_date = actual_sales \\\n",
    "    .join(first_lifestage_date,\n",
    "          on=actual_sales.date >= first_lifestage_date.first_date,\n",
    "          how='inner') \\\n",
    "    .select('date') \\\n",
    "    .drop_duplicates() \\\n",
    "    .orderBy('date') \n",
    "\n",
    "\n",
    "all_lifestage_sku = lifestage_update.select('sku').drop_duplicates().orderBy('sku')\n",
    "\n",
    "date_sku = all_lifestage_date.crossJoin(all_lifestage_sku)\n",
    "\n",
    "# Add corresponding models\n",
    "date_sku = date_sku.join(lifestage_update.select('sku', 'model').drop_duplicates(), \n",
    "                         on='sku', \n",
    "                         how='inner')\n",
    "\n",
    "# Calculate lifestage by date\n",
    "sku_lifestage = date_sku.join(lifestage_update, on=['model', 'sku'], how='left')\n",
    "sku_lifestage = sku_lifestage \\\n",
    "    .filter((sku_lifestage.date >= sku_lifestage.date_begin) &\n",
    "            (sku_lifestage.date <= sku_lifestage.date_end)) \\\n",
    "    .drop('date_begin', 'date_end')\n",
    "\n",
    "# The previous filter removes combinations that do not match the update dates.\n",
    "# But sometimes the update dates do not cover all periods, \n",
    "# which causes some dates to disappear, even during the model's activity periods.\n",
    "# To avoid this problem, we must merge again with all combinations to be sure \n",
    "# not to lose anything.\n",
    "sku_lifestage = date_sku.join(sku_lifestage, on=['date', 'model', 'sku'], how='left')\n",
    "\n",
    "sku_lifestage.cache()"
   ]
  },
  {
   "cell_type": "code",
   "execution_count": null,
   "metadata": {},
   "outputs": [],
   "source": [
    "#sku_lifestage.show()"
   ]
  },
  {
   "cell_type": "markdown",
   "metadata": {},
   "source": [
    "##### 3) Sku life stage ==> model life stage\n",
    "- In order to aggregate at the model level, we decided to take the minimum life stage value of the SKUs that compose it\n",
    "- If no life stage is filled in, we take the last known value (if exists)"
   ]
  },
  {
   "cell_type": "code",
   "execution_count": 9,
   "metadata": {},
   "outputs": [
    {
     "data": {
      "application/vnd.jupyter.widget-view+json": {
       "model_id": "7abf9b304b574feda08eea75292b8349",
       "version_major": 2,
       "version_minor": 0
      },
      "text/plain": [
       "FloatProgress(value=0.0, bar_style='info', description='Progress:', layout=Layout(height='25px', width='50%'),…"
      ]
     },
     "metadata": {},
     "output_type": "display_data"
    },
    {
     "name": "stdout",
     "output_type": "stream",
     "text": [
      "DataFrame[date: date, model: int, lifestage: int]"
     ]
    }
   ],
   "source": [
    "model_lifestage = sku_lifestage \\\n",
    "    .groupby(['date', 'model']) \\\n",
    "    .agg(F.min('lifestage').alias('lifestage'))\n",
    "\n",
    "model_lifestage.cache()"
   ]
  },
  {
   "cell_type": "code",
   "execution_count": null,
   "metadata": {},
   "outputs": [],
   "source": [
    "#model_lifestage.count()"
   ]
  },
  {
   "cell_type": "code",
   "execution_count": null,
   "metadata": {},
   "outputs": [],
   "source": [
    "#print('NB Null before:', model_lifestage.count() - model_lifestage.na.drop().count())"
   ]
  },
  {
   "cell_type": "code",
   "execution_count": 10,
   "metadata": {},
   "outputs": [
    {
     "data": {
      "application/vnd.jupyter.widget-view+json": {
       "model_id": "a1d15fda709b412687b1c9d9e528122f",
       "version_major": 2,
       "version_minor": 0
      },
      "text/plain": [
       "FloatProgress(value=0.0, bar_style='info', description='Progress:', layout=Layout(height='25px', width='50%'),…"
      ]
     },
     "metadata": {},
     "output_type": "display_data"
    },
    {
     "name": "stdout",
     "output_type": "stream",
     "text": [
      "DataFrame[date: date, model: int, lifestage: int]"
     ]
    }
   ],
   "source": [
    "# This is a ffil by group in pyspark ==> OMG\n",
    "window = Window.partitionBy('model')\\\n",
    "               .orderBy('date')\\\n",
    "               .rowsBetween(-sys.maxsize, 0)\n",
    "\n",
    "ffilled_lifestage = F.last(model_lifestage['lifestage'], ignorenulls=True).over(window)\n",
    "\n",
    "model_lifestage = model_lifestage.withColumn('lifestage', ffilled_lifestage)\n",
    "\n",
    "model_lifestage.cache()"
   ]
  },
  {
   "cell_type": "code",
   "execution_count": null,
   "metadata": {},
   "outputs": [],
   "source": [
    "#model_lifestage.take(2)"
   ]
  },
  {
   "cell_type": "code",
   "execution_count": null,
   "metadata": {},
   "outputs": [],
   "source": [
    "#print('NB Null after:', model_lifestage.count() - model_lifestage.na.drop().count())"
   ]
  },
  {
   "cell_type": "markdown",
   "metadata": {},
   "source": [
    "##### 4) Deal with zombie models ==> TO DO\n",
    "If the life stage changes from active (1) to inactive (2 or more) and then back active, we consider the model is a zombie.  \n",
    "This new life may have a different sales behaviour than the previous one, so it's better to pretend that the latter is the only one that never existed.  \n",
    "\n",
    "For example, if the life stage looks like this: **1 1 1 3 3 3 1 1 1**, we only keep that: **3 1 1 1**.  \n",
    "Note that we still keep the last inactive value (here 3) before life stages 1 in order to avoid that the model life stages are considered incomplete in the following session."
   ]
  },
  {
   "cell_type": "code",
   "execution_count": null,
   "metadata": {},
   "outputs": [],
   "source": [
    "# print('NB row before: ', model_lifestage.count())"
   ]
  },
  {
   "cell_type": "code",
   "execution_count": 11,
   "metadata": {},
   "outputs": [
    {
     "data": {
      "application/vnd.jupyter.widget-view+json": {
       "model_id": "ef2b1c25df674a2bbb19e3e5d374d461",
       "version_major": 2,
       "version_minor": 0
      },
      "text/plain": [
       "FloatProgress(value=0.0, bar_style='info', description='Progress:', layout=Layout(height='25px', width='50%'),…"
      ]
     },
     "metadata": {},
     "output_type": "display_data"
    },
    {
     "name": "stdout",
     "output_type": "stream",
     "text": [
      "DataFrame[date: date, model: int, lifestage: int]"
     ]
    }
   ],
   "source": [
    "model_lifestage = model_lifestage.withColumn('lifestage_shift', F.lag(model_lifestage['lifestage']).over(Window.partitionBy(\"model\").orderBy(F.desc('date'))))\n",
    "\n",
    "model_lifestage = model_lifestage.withColumn('diff_shift', model_lifestage['lifestage'] - model_lifestage['lifestage_shift'])\n",
    "\n",
    "df_cut_date = model_lifestage.filter(F.col('diff_shift')>0)\n",
    "\n",
    "df_cut_date = df_cut_date.groupBy('model')\\\n",
    "                         .agg(F.max('date').alias('cut_date'))\n",
    "\n",
    "ml = model_lifestage.join(df_cut_date, on=['model'], how='left')\n",
    "\n",
    "ml = ml.withColumn('cut_date',F.when(F.col('cut_date').isNull(),F.to_date(F.lit('1993-04-15'),'yyyy-MM-dd')).otherwise(F.col('cut_date')))\n",
    "\n",
    "model_lifestage = ml.where(ml.date >= ml.cut_date)\\\n",
    "                    .select(['date', 'model', 'lifestage'])\n",
    "\n",
    "model_lifestage.cache()\n",
    "# model_lifestage.orderBy(['model', 'date', 'lifestage'], ascending=True).show()"
   ]
  },
  {
   "cell_type": "code",
   "execution_count": null,
   "metadata": {},
   "outputs": [],
   "source": [
    "# print('NB row after: ', model_lifestage.count())"
   ]
  },
  {
   "cell_type": "code",
   "execution_count": null,
   "metadata": {},
   "outputs": [],
   "source": [
    "# model_lifestage.show()"
   ]
  },
  {
   "cell_type": "markdown",
   "metadata": {},
   "source": [
    "## Match sales and life stages & rebuild incomplete life stages"
   ]
  },
  {
   "cell_type": "markdown",
   "metadata": {},
   "source": [
    "##### 1) Complete sales\n",
    "- Fill missing quantities by 0"
   ]
  },
  {
   "cell_type": "code",
   "execution_count": 12,
   "metadata": {},
   "outputs": [
    {
     "data": {
      "application/vnd.jupyter.widget-view+json": {
       "model_id": "9b4988c2eb2641d0af312e8d816e663a",
       "version_major": 2,
       "version_minor": 0
      },
      "text/plain": [
       "FloatProgress(value=0.0, bar_style='info', description='Progress:', layout=Layout(height='25px', width='50%'),…"
      ]
     },
     "metadata": {},
     "output_type": "display_data"
    },
    {
     "name": "stdout",
     "output_type": "stream",
     "text": [
      "DataFrame[date: date, model: int, week_id: int, y: int]"
     ]
    }
   ],
   "source": [
    "# test 1 model\n",
    "\n",
    "# all_sales_model = actual_sales.select('model').where(actual_sales.model == 1).orderBy(['model'], ascending=True).distinct()\n",
    "all_sales_model = actual_sales.select('model').orderBy(['model'], ascending=True).distinct()\n",
    "\n",
    "all_sales_date = actual_sales.select('date')\\\n",
    "                             .orderBy(['date'], ascending=True).distinct()\n",
    "\n",
    "\n",
    "date_model = all_sales_model.crossJoin(all_sales_date)\n",
    "date_model.cache()\n",
    "\n",
    "\n",
    "ac = actual_sales.select(actual_sales.date, actual_sales.week_id)\\\n",
    "                 .drop_duplicates()\n",
    "                 \n",
    "         \n",
    "dm = date_model.drop_duplicates()\n",
    "\n",
    "\n",
    "date_model = dm.join(ac,['date'] , how='inner')\n",
    "date_model.cache()\n",
    "\n",
    "  \n",
    "complete_ts = date_model.join(actual_sales, ['date', 'model', 'week_id'], how='left')\n",
    "\n",
    "\n",
    "\n",
    "complete_ts = complete_ts.fillna(0, subset=['y'])\n",
    "complete_ts.cache()\n"
   ]
  },
  {
   "cell_type": "code",
   "execution_count": null,
   "metadata": {},
   "outputs": [],
   "source": [
    "# 259 comme sur python pour le model 1"
   ]
  },
  {
   "cell_type": "markdown",
   "metadata": {},
   "source": [
    "##### 2) Add model life stage by week"
   ]
  },
  {
   "cell_type": "code",
   "execution_count": 13,
   "metadata": {},
   "outputs": [
    {
     "data": {
      "application/vnd.jupyter.widget-view+json": {
       "model_id": "85c2c8cd52314317aa794b4c134a1b77",
       "version_major": 2,
       "version_minor": 0
      },
      "text/plain": [
       "FloatProgress(value=0.0, bar_style='info', description='Progress:', layout=Layout(height='25px', width='50%'),…"
      ]
     },
     "metadata": {},
     "output_type": "display_data"
    },
    {
     "name": "stdout",
     "output_type": "stream",
     "text": [
      "DataFrame[date: date, model: int, week_id: int, y: int, lifestage: int]"
     ]
    }
   ],
   "source": [
    "# complete_ts = pd.merge(complete_ts, model_lifestage, how='left')\n",
    "\n",
    "complete_ts = complete_ts.join(model_lifestage, ['date', 'model'], how='left')\n",
    "complete_ts.cache()\n"
   ]
  },
  {
   "cell_type": "markdown",
   "metadata": {},
   "source": [
    "##### 3) Rebuild incomplete life stages\n",
    "/!\\ Reminder: the life stage values are only historized since September 10, 2018\n",
    "- If the life stage value is 1 at the first historized date \n",
    "- And we observe sales in the previous and consecutive weeks\n",
    "- Then we fill the life stage values of these weeks with 1 as well"
   ]
  },
  {
   "cell_type": "code",
   "execution_count": 14,
   "metadata": {},
   "outputs": [
    {
     "data": {
      "application/vnd.jupyter.widget-view+json": {
       "model_id": "3c9f263b89804711afdb03a295806660",
       "version_major": 2,
       "version_minor": 0
      },
      "text/plain": [
       "FloatProgress(value=0.0, bar_style='info', description='Progress:', layout=Layout(height='25px', width='50%'),…"
      ]
     },
     "metadata": {},
     "output_type": "display_data"
    },
    {
     "name": "stdout",
     "output_type": "stream",
     "text": [
      "DataFrame[id: bigint, date: date, model: int, week_id: int, y: int, lifestage: int, to_fill: boolean]"
     ]
    }
   ],
   "source": [
    "# find models respecting the first condition\n",
    "\n",
    "first_lifestage = complete_ts.where(complete_ts.lifestage.isNotNull())\n",
    "\n",
    "\n",
    "first_lifestage = first_lifestage.orderBy(['model', 'date'], ascending=True)\\\n",
    "                                 .groupBy('model').agg(F.first(complete_ts['date']).alias('date'), F.first(complete_ts['lifestage']).alias('lifestage'))\n",
    "\n",
    "\n",
    "first_lifestage = first_lifestage.where(first_lifestage.lifestage == 1)\\\n",
    "                                 .select(first_lifestage.model, first_lifestage.date.alias('first_lifestage_date'))\n",
    "\n",
    "first_lifestage.cache()\n",
    "\n",
    "\n",
    "# Create the mask (rows to be completed) for theses models\n",
    "complete_ts = complete_ts.withColumn('id', F.monotonically_increasing_id())\n",
    "mask = complete_ts.withColumn('id', F.monotonically_increasing_id())\n",
    "\n",
    "# keep only models respecting the first condition\n",
    "mask = mask.join(first_lifestage, ['model'], how='inner')\n",
    "mask.cache()\n",
    "complete_ts.cache()\n",
    "\n",
    "\n",
    "\n",
    "# Look only before the first historized lifestage date\n",
    "mask = mask.where(mask.date <= mask.first_lifestage_date)\n",
    "\n",
    "mask = mask.withColumn('cumsum_y', F.sum('y').over(Window.partitionBy('model').orderBy(F.col('date').desc())))\\\n",
    "           .withColumn('lag_cumsum_y', F.lag('cumsum_y').over(Window.partitionBy('model').orderBy(F.col('date').desc())))\\\n",
    "           .fillna(0, subset=['lag_cumsum_y'])\\\n",
    "           .withColumn('is_active', F.col('cumsum_y') > F.col('lag_cumsum_y'))\n",
    "\n",
    "\n",
    "ts_start_date = mask.where(mask.is_active == False)\\\n",
    "                    .groupBy('model').agg(F.first('date').alias('start_date'))\n",
    "\n",
    "mask = mask.join(ts_start_date, 'model', how='left')\n",
    "\n",
    "# Case model start date unknown (older than first week recorded here)\n",
    "# ==> fill by an old date\n",
    "#mask = mask.withColumn('start_date',F.when(F.col('start_date').isNull(),F.to_date(F.lit('1993-04-15'),'yyyy-MM-dd')).otherwise(F.col('start_date')))\\\n",
    "     \n",
    "mask = mask.withColumn('start_date',F.when(F.col('start_date').isNull(),F.to_date(F.lit('1993-04-15'),'yyyy-MM-dd')).otherwise(F.col('start_date')))\\\n",
    "           .withColumn('is_model_start', F.col('date') > F.col('start_date'))\\\n",
    "           .withColumn('to_fill', (F.col('is_active')) & (F.col('is_model_start')) & (F.col('lifestage').isNull()))\n",
    "\n",
    "\n",
    "mask = mask.where(mask.to_fill == True).select(mask.id, mask.to_fill)\n",
    "\n",
    "\n",
    "mask.cache()\n",
    "\n",
    "# Fill the eligible rows under all conditions\n",
    "#complete_ts.loc[mask['index'], 'lifestage'] = 1\n",
    "\n",
    "complete_ts = complete_ts.join(mask, 'id', how='left')\n",
    "complete_ts = complete_ts.withColumn('lifestage', F.when(F.col('to_fill')==True, F.lit(1)).otherwise(F.col('lifestage')))\n",
    "complete_ts.cache()"
   ]
  },
  {
   "cell_type": "code",
   "execution_count": null,
   "metadata": {},
   "outputs": [],
   "source": [
    "complete_ts.groupby('lifestage').count().orderBy('count').show()"
   ]
  },
  {
   "cell_type": "code",
   "execution_count": 16,
   "metadata": {},
   "outputs": [
    {
     "data": {
      "application/vnd.jupyter.widget-view+json": {
       "model_id": "66b38164cf70404995f69aac1e35d94d",
       "version_major": 2,
       "version_minor": 0
      },
      "text/plain": [
       "FloatProgress(value=0.0, bar_style='info', description='Progress:', layout=Layout(height='25px', width='50%'),…"
      ]
     },
     "metadata": {},
     "output_type": "display_data"
    },
    {
     "name": "stdout",
     "output_type": "stream",
     "text": [
      "46399600"
     ]
    }
   ],
   "source": [
    "complete_ts.count()"
   ]
  },
  {
   "cell_type": "code",
   "execution_count": null,
   "metadata": {},
   "outputs": [],
   "source": [
    "# lifestage1 : wtf\n",
    "# python: 2723285\n",
    "# spark:  2723262"
   ]
  },
  {
   "cell_type": "markdown",
   "metadata": {},
   "source": [
    "## Create active sales data set\n",
    "\n",
    "##### 1) Keep in memory first sales dates by model"
   ]
  },
  {
   "cell_type": "code",
   "execution_count": 15,
   "metadata": {},
   "outputs": [
    {
     "data": {
      "application/vnd.jupyter.widget-view+json": {
       "model_id": "f73f1875d397485591f8a378c17b4d18",
       "version_major": 2,
       "version_minor": 0
      },
      "text/plain": [
       "FloatProgress(value=0.0, bar_style='info', description='Progress:', layout=Layout(height='25px', width='50%'),…"
      ]
     },
     "metadata": {},
     "output_type": "display_data"
    },
    {
     "name": "stdout",
     "output_type": "stream",
     "text": [
      "DataFrame[model: int, first_date: date]"
     ]
    }
   ],
   "source": [
    "model_start_date = actual_sales.groupBy('model').agg(F.first(complete_ts['date']).alias('first_date'))\n",
    "model_start_date.cache()"
   ]
  },
  {
   "cell_type": "markdown",
   "metadata": {},
   "source": [
    "##### 2) Construct active sales\n",
    "- Filtered on active life stage \n",
    "- After the first actual sales date\n",
    "- Padded with zeros (already done in complete sales)"
   ]
  },
  {
   "cell_type": "code",
   "execution_count": 17,
   "metadata": {},
   "outputs": [
    {
     "data": {
      "application/vnd.jupyter.widget-view+json": {
       "model_id": "7437ec00fe6f452d8ce985b9cf9a66d4",
       "version_major": 2,
       "version_minor": 0
      },
      "text/plain": [
       "FloatProgress(value=0.0, bar_style='info', description='Progress:', layout=Layout(height='25px', width='50%'),…"
      ]
     },
     "metadata": {},
     "output_type": "display_data"
    },
    {
     "name": "stdout",
     "output_type": "stream",
     "text": [
      "('Nb rows before:', 46399600)"
     ]
    }
   ],
   "source": [
    "print('Nb rows before:', complete_ts.count())"
   ]
  },
  {
   "cell_type": "code",
   "execution_count": 18,
   "metadata": {},
   "outputs": [
    {
     "data": {
      "application/vnd.jupyter.widget-view+json": {
       "model_id": "81fac7dc26014a6a8b9bd9294c61cb89",
       "version_major": 2,
       "version_minor": 0
      },
      "text/plain": [
       "FloatProgress(value=0.0, bar_style='info', description='Progress:', layout=Layout(height='25px', width='50%'),…"
      ]
     },
     "metadata": {},
     "output_type": "display_data"
    },
    {
     "name": "stdout",
     "output_type": "stream",
     "text": [
      "DataFrame[model: int, id: bigint, date: date, week_id: int, y: int]"
     ]
    }
   ],
   "source": [
    "active_sales = complete_ts.where(complete_ts.lifestage == 1)\n",
    "\n",
    "active_sales = active_sales.join(model_start_date,'model' , how='inner')\\\n",
    "                           \n",
    "active_sales = active_sales.where(active_sales.date >= active_sales.first_date)\\\n",
    "                           .drop('lifestage', 'first_date', 'to_fill')\n",
    "\n",
    "active_sales.cache()"
   ]
  },
  {
   "cell_type": "code",
   "execution_count": 19,
   "metadata": {},
   "outputs": [
    {
     "data": {
      "application/vnd.jupyter.widget-view+json": {
       "model_id": "54baf0c8ccf0464db233d589ddf9139a",
       "version_major": 2,
       "version_minor": 0
      },
      "text/plain": [
       "FloatProgress(value=0.0, bar_style='info', description='Progress:', layout=Layout(height='25px', width='50%'),…"
      ]
     },
     "metadata": {},
     "output_type": "display_data"
    },
    {
     "name": "stdout",
     "output_type": "stream",
     "text": [
      "('Nb rows after: ', 2726578)"
     ]
    }
   ],
   "source": [
    "print('Nb rows after: ', active_sales.count())"
   ]
  },
  {
   "cell_type": "markdown",
   "metadata": {},
   "source": [
    "## Clean model info"
   ]
  },
  {
   "cell_type": "code",
   "execution_count": 20,
   "metadata": {},
   "outputs": [
    {
     "data": {
      "application/vnd.jupyter.widget-view+json": {
       "model_id": "319e3525bf9e4299aed03a336ad6cc60",
       "version_major": 2,
       "version_minor": 0
      },
      "text/plain": [
       "FloatProgress(value=0.0, bar_style='info', description='Progress:', layout=Layout(height='25px', width='50%'),…"
      ]
     },
     "metadata": {},
     "output_type": "display_data"
    },
    {
     "name": "stdout",
     "output_type": "stream",
     "text": [
      "+--------------+\n",
      "|category_label|\n",
      "+--------------+\n",
      "|      FOOTWEAR|\n",
      "|     ACCESSORY|\n",
      "|     EQUIPMENT|\n",
      "|       UNKNOWN|\n",
      "|      CLOTHING|\n",
      "+--------------+"
     ]
    }
   ],
   "source": [
    "model_info = model_info.withColumn('category_label', F.when(model_info.category_label == 'SOUS RAYON POUB', F.lit(None)).otherwise(model_info.category_label))\n",
    "model_info = model_info.fillna('UNKNOWN')\n",
    "model_info.select(model_info.category_label).distinct().show()"
   ]
  },
  {
   "cell_type": "code",
   "execution_count": 21,
   "metadata": {},
   "outputs": [
    {
     "data": {
      "application/vnd.jupyter.widget-view+json": {
       "model_id": "154864df4da14dfb95e11be99a2d9296",
       "version_major": 2,
       "version_minor": 0
      },
      "text/plain": [
       "FloatProgress(value=0.0, bar_style='info', description='Progress:', layout=Layout(height='25px', width='50%'),…"
      ]
     },
     "metadata": {},
     "output_type": "display_data"
    }
   ],
   "source": [
    "model_info = model_info.withColumn('product_nature_label', F.when((model_info.product_nature_label == 'SOCKS') & (model_info.model_label.contains('% LOW')), F.lit('LOW SOCKS'))\n",
    "                                                            .when((model_info.product_nature_label == 'SOCKS') & (model_info.model_label.contains('% MID')), F.lit('MID SOCKS'))\n",
    "                                                            .when((model_info.product_nature_label == 'SOCKS') & (model_info.model_label.contains('% HIGH')), F.lit('HIGH SOCKS'))\n",
    "                                                            .otherwise(model_info.product_nature_label))"
   ]
  },
  {
   "cell_type": "code",
   "execution_count": 22,
   "metadata": {},
   "outputs": [
    {
     "data": {
      "application/vnd.jupyter.widget-view+json": {
       "model_id": "36cc16b2dfc84964b83fac33b2e7680a",
       "version_major": 2,
       "version_minor": 0
      },
      "text/plain": [
       "FloatProgress(value=0.0, bar_style='info', description='Progress:', layout=Layout(height='25px', width='50%'),…"
      ]
     },
     "metadata": {},
     "output_type": "display_data"
    }
   ],
   "source": [
    "model_info = model_info.drop('product_nature')\n",
    "indexer = StringIndexer(inputCol='product_nature_label', outputCol='product_nature')\n",
    "model_info = indexer.fit(model_info).transform(model_info)\n",
    "\n",
    "model_info = model_info.withColumn('product_nature', F.expr('product_nature+1').cast('integer'))"
   ]
  },
  {
   "cell_type": "markdown",
   "metadata": {},
   "source": [
    "## Export datasets"
   ]
  },
  {
   "cell_type": "code",
   "execution_count": 23,
   "metadata": {},
   "outputs": [
    {
     "data": {
      "application/vnd.jupyter.widget-view+json": {
       "model_id": "4710538d44a8495e971dc99900636704",
       "version_major": 2,
       "version_minor": 0
      },
      "text/plain": [
       "FloatProgress(value=0.0, bar_style='info', description='Progress:', layout=Layout(height='25px', width='50%'),…"
      ]
     },
     "metadata": {},
     "output_type": "display_data"
    }
   ],
   "source": [
    "model_info.write.parquet('s3://fcst-refined-demand-forecast-dev/part_2/model_info', mode=\"overwrite\")\n",
    "actual_sales.write.parquet('s3://fcst-refined-demand-forecast-dev/part_2/actual_sales', mode=\"overwrite\")\n",
    "active_sales.write.parquet('s3://fcst-refined-demand-forecast-dev/part_2/active_sales', mode=\"overwrite\")"
   ]
  },
  {
   "cell_type": "code",
   "execution_count": null,
   "metadata": {},
   "outputs": [],
   "source": [
    "spark.stop()"
   ]
  }
 ],
 "metadata": {
  "kernelspec": {
   "display_name": "Sparkmagic (PySpark)",
   "language": "",
   "name": "pysparkkernel"
  },
  "language_info": {
   "codemirror_mode": {
    "name": "python",
    "version": 2
   },
   "mimetype": "text/x-python",
   "name": "pyspark",
   "pygments_lexer": "python2"
  }
 },
 "nbformat": 4,
 "nbformat_minor": 4
}
